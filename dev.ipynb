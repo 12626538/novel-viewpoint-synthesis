{
 "cells": [
  {
   "cell_type": "code",
   "execution_count": 1,
   "metadata": {},
   "outputs": [],
   "source": [
    "import os\n",
    "from tqdm.notebook import tqdm\n",
    "from random import shuffle\n",
    "from collections import defaultdict\n",
    "\n",
    "import matplotlib.pyplot as plt\n",
    "import numpy as np\n",
    "\n",
    "import torch\n",
    "import gsplat\n",
    "from PIL import Image\n",
    "from torch import optim\n",
    "import torchvision.transforms as transforms\n",
    "\n",
    "from src.model.gaussians import Gaussians\n",
    "from src.data.colmap import ColmapDataSet"
   ]
  },
  {
   "cell_type": "code",
   "execution_count": 2,
   "metadata": {},
   "outputs": [],
   "source": [
    "ROOT_DIR = '/media/jip/T7/thesis/code/data/'\n",
    "if not os.path.isdir(ROOT_DIR):\n",
    "    ROOT_DIR = '/home/jip/data1/'\n",
    "ROOT_DIR += \"bicycle\"\n",
    "\n",
    "DEVICE = 'cuda:0' if torch.cuda.is_available() else 'cpu'\n",
    "try:\n",
    "    torch.cuda.set_device(DEVICE)\n",
    "except:\n",
    "    print(\"!WARNING! could not set cuda device, falling back to default\")"
   ]
  },
  {
   "cell_type": "code",
   "execution_count": 3,
   "metadata": {},
   "outputs": [],
   "source": [
    "def image_path_to_tensor(image_path:str):\n",
    "\n",
    "    img = Image.open(image_path)\n",
    "    transform = transforms.ToTensor()\n",
    "    img_tensor = transform(img).permute(1, 2, 0)[..., :3]\n",
    "    return img_tensor\n",
    "\n",
    "def tensor_to_ndarray(image:torch.Tensor) -> np.ndarray:\n",
    "    return image.detach().cpu().numpy()\n",
    "\n",
    "def ndarray_to_Image(image:np.ndarray) -> Image.Image:\n",
    "    return Image.fromarray((image*255).astype(np.uint8))\n",
    "\n",
    "def tensor_to_Image(image:torch.Tensor) -> Image.Image:\n",
    "    return ndarray_to_Image(tensor_to_ndarray(image))\n",
    "\n",
    "\n",
    "def train(\n",
    "    model:Gaussians,\n",
    "    dataset:ColmapDataSet,\n",
    "    device=DEVICE,\n",
    "    num_epochs: int = 500,\n",
    "    lr: float = 0.01\n",
    ") -> tuple[Gaussians,dict]:\n",
    "\n",
    "    # Set up optimizer\n",
    "    optimizer = optim.Adam(\n",
    "        model.parameters(), lr\n",
    "    )\n",
    "    scheduler = optim.lr_scheduler.ExponentialLR(optimizer, gamma=0.99)\n",
    "    loss_fn = torch.nn.MSELoss()\n",
    "\n",
    "    # Output package\n",
    "    out = {\n",
    "        'losses':[],\n",
    "        'lr':[]\n",
    "    }\n",
    "\n",
    "    # Use progress bar\n",
    "    num_data = len(dataset)\n",
    "    pbar = tqdm(total=num_epochs*num_data, desc=\"Training\", smoothing=.5)\n",
    "\n",
    "    save_every = 5\n",
    "    save_at = '_DSC8680.JPG'\n",
    "    # camera = dataset.cameras[1]\n",
    "    # tensor_to_Image(camera.gt_image).save(f'renders/gt_{camera.name}')\n",
    "\n",
    "    # Set up epoch\n",
    "    epoch_loss=0.\n",
    "    epoch_loss_norm=0\n",
    "    idxs = []\n",
    "    for epoch in range(1,num_epochs+1):\n",
    "        idxs = list(range(num_data))\n",
    "        shuffle(idxs)\n",
    "\n",
    "        torch.cuda.empty_cache()\n",
    "\n",
    "        for camera in dataset:\n",
    "\n",
    "            # Forward pass\n",
    "            camera.to(device)\n",
    "            rendering = model.render(camera)\n",
    "            loss = loss_fn(rendering, camera.gt_image)\n",
    "\n",
    "            # Backward pass\n",
    "            optimizer.zero_grad()\n",
    "            loss.backward()\n",
    "            optimizer.step()\n",
    "\n",
    "            if camera.name == save_at and epoch%save_every == 0:\n",
    "                # tensor_to_Image(model.render(camera, bg=torch.zeros(3,device=device))).save(f'renders/epoch{epoch}_{camera.name}')\n",
    "                tensor_to_Image(model.render(camera, bg=torch.zeros(3,device=device))).save(f'renders/latest_{camera.name}')\n",
    "\n",
    "            # Update batch info\n",
    "            epoch_loss += loss.item()\n",
    "            epoch_loss_norm += 1\n",
    "\n",
    "            # End iter\n",
    "            camera.to('cpu')\n",
    "            pbar.update()\n",
    "\n",
    "        # Every 10 epochs for the first 60% of epochs decay lr\n",
    "        if epoch%10==0 and epoch < .6*num_epochs:\n",
    "            scheduler.step()\n",
    "\n",
    "        # Compute epoch loss\n",
    "        _loss = epoch_loss / epoch_loss_norm\n",
    "        _lr = scheduler.get_last_lr()[0]\n",
    "\n",
    "        out['losses'].append(_loss)\n",
    "        out['lr'].append(_lr)\n",
    "        epoch_loss_norm = 0.\n",
    "        epoch_loss = 0\n",
    "\n",
    "        pbar.set_postfix({\n",
    "            'loss':f\"{_loss:.2e}\",\n",
    "            'lr':f\"{_lr:.1e}\",\n",
    "        })\n",
    "\n",
    "    pbar.close()\n",
    "\n",
    "    return model, out"
   ]
  },
  {
   "cell_type": "code",
   "execution_count": 4,
   "metadata": {},
   "outputs": [
    {
     "name": "stdout",
     "output_type": "stream",
     "text": [
      "Reading cameras...\n",
      "Reading images...\n",
      "Parsing cameras and images...\n",
      "Found 10 cameras\n"
     ]
    }
   ],
   "source": [
    "dataset = ColmapDataSet(\n",
    "    root_dir=ROOT_DIR,\n",
    "    img_folder='images_4',\n",
    ")\n",
    "\n",
    "dataset.cameras = sorted(dataset.cameras, key=lambda cam:cam.name)[:10]\n",
    "\n",
    "print(f\"Found {len(dataset)} cameras\")\n",
    "assert len(dataset)>0,f\"Could not find any cameras, root dir is {ROOT_DIR}\""
   ]
  },
  {
   "cell_type": "code",
   "execution_count": 5,
   "metadata": {},
   "outputs": [
    {
     "name": "stdout",
     "output_type": "stream",
     "text": [
      "55933\n"
     ]
    }
   ],
   "source": [
    "model = Gaussians.from_colmap(\n",
    "    path_to_points3D_file=os.path.join(ROOT_DIR,'sparse/0/points3D.txt'),\n",
    "    device=DEVICE,\n",
    ")\n",
    "print(model.means.shape[0])"
   ]
  },
  {
   "cell_type": "code",
   "execution_count": 6,
   "metadata": {},
   "outputs": [
    {
     "data": {
      "application/vnd.jupyter.widget-view+json": {
       "model_id": "e1dee098d81c4d4f88d42094aa294fdb",
       "version_major": 2,
       "version_minor": 0
      },
      "text/plain": [
       "Training:   0%|          | 0/5000 [00:00<?, ?it/s]"
      ]
     },
     "metadata": {},
     "output_type": "display_data"
    },
    {
     "data": {
      "image/png": "[encoded data removed]",
      "text/plain": [
       "<Figure size 640x480 with 2 Axes>"
      ]
     },
     "metadata": {},
     "output_type": "display_data"
    }
   ],
   "source": [
    "model,out = train(\n",
    "    model,\n",
    "    dataset,\n",
    "    num_epochs=500,\n",
    "    lr=0.01,\n",
    "    device=DEVICE,\n",
    ")\n",
    "plt.subplot(2,1,1)\n",
    "plt.plot(out['losses'])\n",
    "plt.ylim(0)\n",
    "plt.xlabel(\"Epoch\")\n",
    "plt.ylabel(\"Loss\")\n",
    "plt.title(\"Loss plot training\")\n",
    "\n",
    "plt.subplot(2,1,2)\n",
    "plt.plot(out['lr'])\n",
    "# plt.ylim(0)\n",
    "plt.yscale('log')\n",
    "plt.xlabel(\"Epoch\")\n",
    "plt.ylabel(\"Learning rate\")\n",
    "plt.title(\"Learning rate plot training\")\n",
    "\n",
    "plt.show()"
   ]
  },
  {
   "cell_type": "code",
   "execution_count": 7,
   "metadata": {},
   "outputs": [
    {
     "name": "stdout",
     "output_type": "stream",
     "text": [
      "Saving results..\n",
      "tensor([[ 0.2348, -0.0313, -0.9715, -0.0232],\n",
      "        [-0.0570,  0.9973, -0.0459, -1.0701],\n",
      "        [ 0.9704,  0.0662,  0.2324,  3.8410],\n",
      "        [ 0.0000,  0.0000,  0.0000,  1.0000]], device='cuda:0')\n",
      "tensor([[ 0.2018, -0.0362, -0.9788, -0.1559],\n",
      "        [ 0.2679,  0.9633,  0.0196, -0.0051],\n",
      "        [ 0.9421, -0.2661,  0.2041,  4.1173],\n",
      "        [ 0.0000,  0.0000,  0.0000,  1.0000]], device='cuda:0')\n",
      "tensor([[ 3.3224e-03,  2.5117e-02, -9.9968e-01,  1.5676e-02],\n",
      "        [ 3.6220e-02,  9.9903e-01,  2.5221e-02, -7.9817e-01],\n",
      "        [ 9.9934e-01, -3.6293e-02,  2.4094e-03,  3.9025e+00],\n",
      "        [ 0.0000e+00,  0.0000e+00,  0.0000e+00,  1.0000e+00]], device='cuda:0')\n",
      "tensor([[ 3.7627e-02, -1.3642e-02, -9.9920e-01,  1.9036e-01],\n",
      "        [ 3.9201e-01,  9.1996e-01,  2.2019e-03,  5.1833e-01],\n",
      "        [ 9.1919e-01, -3.9178e-01,  3.9963e-02,  4.0661e+00],\n",
      "        [ 0.0000e+00,  0.0000e+00,  0.0000e+00,  1.0000e+00]], device='cuda:0')\n",
      "tensor([[-2.7442e-01,  1.7772e-03, -9.6161e-01,  1.5067e-01],\n",
      "        [ 2.4632e-03,  1.0000e+00,  1.1452e-03, -9.7087e-01],\n",
      "        [ 9.6161e-01, -2.0544e-03, -2.7442e-01,  3.7132e+00],\n",
      "        [ 0.0000e+00,  0.0000e+00,  0.0000e+00,  1.0000e+00]], device='cuda:0')\n",
      "tensor([[-0.2596, -0.0084, -0.9657,  0.2160],\n",
      "        [ 0.4049,  0.9069, -0.1167,  0.5880],\n",
      "        [ 0.8768, -0.4213, -0.2320,  3.8802],\n",
      "        [ 0.0000,  0.0000,  0.0000,  1.0000]], device='cuda:0')\n",
      "tensor([[-0.5191, -0.0184, -0.8545,  0.4232],\n",
      "        [ 0.0474,  0.9976, -0.0503, -0.7266],\n",
      "        [ 0.8534, -0.0666, -0.5170,  3.6459],\n",
      "        [ 0.0000,  0.0000,  0.0000,  1.0000]], device='cuda:0')\n",
      "tensor([[-0.5399, -0.0403, -0.8407,  0.3636],\n",
      "        [ 0.3545,  0.8951, -0.2705,  0.6075],\n",
      "        [ 0.7634, -0.4441, -0.4690,  3.8087],\n",
      "        [ 0.0000,  0.0000,  0.0000,  1.0000]], device='cuda:0')\n",
      "tensor([[-0.7245, -0.0065, -0.6892,  0.6157],\n",
      "        [ 0.0174,  0.9995, -0.0278, -0.7752],\n",
      "        [ 0.6891, -0.0321, -0.7240,  3.6583],\n",
      "        [ 0.0000,  0.0000,  0.0000,  1.0000]], device='cuda:0')\n",
      "tensor([[-0.7093, -0.0042, -0.7049,  0.7227],\n",
      "        [ 0.2946,  0.9067, -0.3018,  0.5217],\n",
      "        [ 0.6404, -0.4217, -0.6419,  3.7974],\n",
      "        [ 0.0000,  0.0000,  0.0000,  1.0000]], device='cuda:0')\n",
      "Results saved\n"
     ]
    }
   ],
   "source": [
    "print(\"Saving results..\")\n",
    "out_dir = os.path.join(os.getcwd(), \"renders\")\n",
    "\n",
    "rendering = []\n",
    "nrow = len(dataset)\n",
    "\n",
    "cameras = sorted(dataset, key=lambda cam:cam.name)\n",
    "\n",
    "for camera in cameras:\n",
    "\n",
    "    camera.to(DEVICE)\n",
    "    bg = torch.zeros(3,dtype=torch.float, device=DEVICE)\n",
    "\n",
    "    I = ndarray_to_Image(np.hstack((\n",
    "        tensor_to_ndarray(camera.gt_image),\n",
    "        tensor_to_ndarray(model.render(camera, bg=bg))\n",
    "    )))\n",
    "\n",
    "    I.save(os.path.join(out_dir,camera.name))\n",
    "    rendering.append(I)\n",
    "\n",
    "rendering[0].save(\n",
    "    os.path.join(out_dir,\"rendering.gif\"),\n",
    "    save_all=True,\n",
    "    append_images=rendering[2::2],\n",
    "    optimize=False,\n",
    "    duration=500,\n",
    "    loop=0,\n",
    ")\n",
    "\n",
    "print(\"Results saved\")\n",
    "\n",
    "# os.makedirs(out_dir,exist_ok=True)\n",
    "\n",
    "# for fname in out['frames']:\n",
    "#     Image.fromarray(out['gt'][fname]).save(os.path.join(out_dir,fname))\n",
    "\n",
    "#     frames = [Image.fromarray(frame) for frame in out['frames'][fname]]\n",
    "\n",
    "#     frames[-1].save(os.path.join(out_dir,fname.split(\".\")[0]+\"_final.png\"))"
   ]
  }
 ],
 "metadata": {
  "kernelspec": {
   "display_name": "gsplat",
   "language": "python",
   "name": "python3"
  },
  "language_info": {
   "codemirror_mode": {
    "name": "ipython",
    "version": 3
   },
   "file_extension": ".py",
   "mimetype": "text/x-python",
   "name": "python",
   "nbconvert_exporter": "python",
   "pygments_lexer": "ipython3",
   "version": "3.9.18"
  }
 },
 "nbformat": 4,
 "nbformat_minor": 2
}
